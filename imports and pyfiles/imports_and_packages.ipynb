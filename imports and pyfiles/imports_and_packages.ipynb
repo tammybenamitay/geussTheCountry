{
 "cells": [
  {
   "attachments": {},
   "cell_type": "markdown",
   "metadata": {},
   "source": [
    "# The Project"
   ]
  },
  {
   "attachments": {},
   "cell_type": "markdown",
   "metadata": {},
   "source": [
    "So far we used python for fast and easy scripts, but it wasn't part of a larger end 2 end project. <br>\n",
    "The purpose of this folder, is to gather all the pieces we saw so far to one coheseve project-like structure. <br>\n",
    "\n",
    "During the next few lessons, you will learn about:\n",
    "\n",
    "* **Utility Imports**\n",
    "    * os\n",
    "    * sys\n",
    "    * path\n",
    "* **Project Structuring**\n",
    "* **VS Code**\n",
    "    * Extensions\n",
    "* **Github basics**\n",
    "    * add, commit, push.\n"
   ]
  },
  {
   "cell_type": "code",
   "execution_count": 1,
   "metadata": {},
   "outputs": [],
   "source": [
    "%load_ext autoreload\n",
    "%autoreload 2"
   ]
  },
  {
   "attachments": {},
   "cell_type": "markdown",
   "metadata": {},
   "source": [
    "## Utility imports"
   ]
  },
  {
   "attachments": {},
   "cell_type": "markdown",
   "metadata": {},
   "source": [
    "In Python, you use the import keyword to make code in one module available in another. Imports in Python are important for structuring your code effectively. <br>\n",
    "Using imports properly will make you more productive, allowing you to reuse code while keeping your projects maintainable.\n",
    "\n",
    "This tutorial will provide a thorough overview of Python’s import statement and how it works. The import system is powerful, and you’ll learn how to harness this power. <br> While you’ll cover many of the concepts behind Python’s import system, this tutorial is mostly example driven. You’ll learn from several code examples throughout."
   ]
  },
  {
   "cell_type": "code",
   "execution_count": 2,
   "metadata": {},
   "outputs": [],
   "source": [
    "import os\n",
    "import sys\n",
    "from pathlib import Path"
   ]
  },
  {
   "attachments": {},
   "cell_type": "markdown",
   "metadata": {},
   "source": [
    "### os\n",
    "```python\n",
    "import os\n",
    "```"
   ]
  },
  {
   "cell_type": "code",
   "execution_count": 3,
   "metadata": {},
   "outputs": [
    {
     "name": "stdout",
     "output_type": "stream",
     "text": [
      "c:\\python\\imports and pyfiles-20230119T160737Z-001\\imports and pyfiles\n"
     ]
    }
   ],
   "source": [
    "print(os.getcwd()) #This is your the code is running, the imports and the files are relative to this path.\n",
    "#os.chdir(\"../\") #You can change this path, but it is strongly not recommended."
   ]
  },
  {
   "attachments": {},
   "cell_type": "markdown",
   "metadata": {},
   "source": [
    "Use `os.listdir()` to return a list of file names in the specified path"
   ]
  },
  {
   "cell_type": "code",
   "execution_count": 4,
   "metadata": {},
   "outputs": [
    {
     "data": {
      "text/plain": [
       "['data',\n",
       " 'exercises.ipynb',\n",
       " 'imports_and_packages.ipynb',\n",
       " 'package1',\n",
       " 'package2',\n",
       " 'package3',\n",
       " 'the_json_format.ipynb']"
      ]
     },
     "execution_count": 4,
     "metadata": {},
     "output_type": "execute_result"
    }
   ],
   "source": [
    "os.listdir() "
   ]
  },
  {
   "attachments": {},
   "cell_type": "markdown",
   "metadata": {},
   "source": [
    "If we specify a path, (for example, `os.listdir(\"../\")`) it will return the elements in that path."
   ]
  },
  {
   "cell_type": "code",
   "execution_count": 5,
   "metadata": {},
   "outputs": [
    {
     "data": {
      "text/plain": [
       "['imports and pyfiles']"
      ]
     },
     "execution_count": 5,
     "metadata": {},
     "output_type": "execute_result"
    }
   ],
   "source": [
    "os.listdir(\"../\")"
   ]
  },
  {
   "attachments": {},
   "cell_type": "markdown",
   "metadata": {},
   "source": [
    "In addition to all varialbes of the code, you also have the global variables, which are unrelated to python but to the operation system. <br>\n",
    "These variables are saved in a dictionary-like object. You can get to that by using `os.environ`"
   ]
  },
  {
   "cell_type": "code",
   "execution_count": 6,
   "metadata": {},
   "outputs": [
    {
     "data": {
      "text/plain": [
       "environ{'ACSVCPORT': '17532',\n",
       "        'ALLUSERSPROFILE': 'C:\\\\ProgramData',\n",
       "        'APPDATA': 'C:\\\\Users\\\\nadav\\\\AppData\\\\Roaming',\n",
       "        'CHROME_CRASHPAD_PIPE_NAME': '\\\\\\\\.\\\\pipe\\\\LOCAL\\\\crashpad_22796_GPZXXZFYZRZBFTSS',\n",
       "        'COMMONPROGRAMFILES': 'C:\\\\Program Files\\\\Common Files',\n",
       "        'COMMONPROGRAMFILES(X86)': 'C:\\\\Program Files (x86)\\\\Common Files',\n",
       "        'COMMONPROGRAMW6432': 'C:\\\\Program Files\\\\Common Files',\n",
       "        'COMPUTERNAME': 'DESKTOP-1PO5I3T',\n",
       "        'COMSPEC': 'C:\\\\WINDOWS\\\\system32\\\\cmd.exe',\n",
       "        'CONDA_DEFAULT_ENV': 'base',\n",
       "        'CONDA_EXE': 'C:\\\\Users\\\\nadav\\\\anaconda3\\\\condabin\\\\..\\\\Scripts\\\\conda.exe',\n",
       "        'CONDA_PREFIX': 'C:\\\\Users\\\\nadav\\\\anaconda3',\n",
       "        'CONDA_PROMPT_MODIFIER': '(base) ',\n",
       "        'CONDA_PYTHON_EXE': 'C:\\\\Users\\\\nadav\\\\anaconda3\\\\python.exe',\n",
       "        'CONDA_SHLVL': '1',\n",
       "        'DRIVERDATA': 'C:\\\\Windows\\\\System32\\\\Drivers\\\\DriverData',\n",
       "        'ELECTRON_RUN_AS_NODE': '1',\n",
       "        'FPS_BROWSER_APP_PROFILE_STRING': 'Internet Explorer',\n",
       "        'FPS_BROWSER_USER_PROFILE_STRING': 'Default',\n",
       "        'HOMEDRIVE': 'C:',\n",
       "        'HOMEPATH': '\\\\Users\\\\nadav',\n",
       "        'JPY_INTERRUPT_EVENT': '2848',\n",
       "        'LOCALAPPDATA': 'C:\\\\Users\\\\nadav\\\\AppData\\\\Local',\n",
       "        'LOGONSERVER': '\\\\\\\\DESKTOP-1PO5I3T',\n",
       "        'NUMBER_OF_PROCESSORS': '12',\n",
       "        'OCULUSBASE': 'C:\\\\Program Files\\\\Oculus\\\\',\n",
       "        'ONEDRIVE': 'C:\\\\Users\\\\nadav\\\\OneDrive',\n",
       "        'ORIGINAL_XDG_CURRENT_DESKTOP': 'undefined',\n",
       "        'OS': 'Windows_NT',\n",
       "        'PATH': 'c:\\\\Users\\\\nadav\\\\anaconda3;C:\\\\Users\\\\nadav\\\\anaconda3;C:\\\\Users\\\\nadav\\\\anaconda3\\\\Library\\\\mingw-w64\\\\bin;C:\\\\Users\\\\nadav\\\\anaconda3\\\\Library\\\\usr\\\\bin;C:\\\\Users\\\\nadav\\\\anaconda3\\\\Library\\\\bin;C:\\\\Users\\\\nadav\\\\anaconda3\\\\Scripts;C:\\\\Users\\\\nadav\\\\anaconda3\\\\bin;C:\\\\Users\\\\nadav\\\\anaconda3\\\\condabin;C:\\\\Program Files\\\\Oculus\\\\Support\\\\oculus-runtime;C:\\\\Windows\\\\system32;C:\\\\Windows;C:\\\\Windows\\\\System32\\\\Wbem;C:\\\\Windows\\\\System32\\\\WindowsPowerShell\\\\v1.0;C:\\\\Windows\\\\System32\\\\OpenSSH;C:\\\\Program Files\\\\NVIDIA Corporation\\\\NVIDIA NvDLISR;C:\\\\Program Files (x86)\\\\NVIDIA Corporation\\\\PhysX\\\\Common;C:\\\\WINDOWS\\\\system32;C:\\\\WINDOWS;C:\\\\WINDOWS\\\\System32\\\\Wbem;C:\\\\WINDOWS\\\\System32\\\\WindowsPowerShell\\\\v1.0;C:\\\\WINDOWS\\\\System32\\\\OpenSSH;C:\\\\Users\\\\nadav\\\\AppData\\\\Local\\\\Programs\\\\Python\\\\Python39;C:\\\\Users\\\\nadav\\\\AppData\\\\Local\\\\Programs\\\\Python\\\\Python39\\\\Scripts;C:\\\\Program Files\\\\PuTTY;C:\\\\Users\\\\nadav\\\\anaconda3;C:\\\\Users\\\\nadav\\\\anaconda3\\\\Library\\\\mingw-w64\\\\bin;C:\\\\Users\\\\nadav\\\\anaconda3\\\\Library\\\\usr\\\\bin;C:\\\\Users\\\\nadav\\\\anaconda3\\\\Library\\\\bin;C:\\\\Users\\\\nadav\\\\anaconda3\\\\Scripts;C:\\\\Users\\\\nadav\\\\AppData\\\\Local\\\\Microsoft\\\\WindowsApps;C:\\\\Users\\\\nadav\\\\AppData\\\\Local\\\\Programs\\\\Microsoft VS Code\\\\bin;C:\\\\Program Files\\\\Oculus\\\\Support\\\\oculus-runtime;C:\\\\Windows\\\\system32;C:\\\\Windows;C:\\\\Windows\\\\System32\\\\Wbem;C:\\\\Windows\\\\System32\\\\WindowsPowerShell\\\\v1.0\\\\;C:\\\\Windows\\\\System32\\\\OpenSSH\\\\;C:\\\\Program Files\\\\NVIDIA Corporation\\\\NVIDIA NvDLISR;C:\\\\Program Files (x86)\\\\NVIDIA Corporation\\\\PhysX\\\\Common;C:\\\\WINDOWS\\\\system32;C:\\\\WINDOWS;C:\\\\WINDOWS\\\\System32\\\\Wbem;C:\\\\WINDOWS\\\\System32\\\\WindowsPowerShell\\\\v1.0\\\\;C:\\\\WINDOWS\\\\System32\\\\OpenSSH\\\\;C:\\\\Users\\\\nadav\\\\AppData\\\\Local\\\\Programs\\\\Python\\\\Python39;C:\\\\Users\\\\nadav\\\\AppData\\\\Local\\\\Programs\\\\Python\\\\Python39\\\\Scripts;C:\\\\Program Files\\\\PuTTY\\\\;C:\\\\Users\\\\nadav\\\\anaconda3;C:\\\\Users\\\\nadav\\\\anaconda3\\\\Library\\\\mingw-w64\\\\bin;C:\\\\Users\\\\nadav\\\\anaconda3\\\\Library\\\\usr\\\\bin;C:\\\\Users\\\\nadav\\\\anaconda3\\\\Library\\\\bin;C:\\\\Users\\\\nadav\\\\anaconda3\\\\Scripts;C:\\\\Users\\\\nadav\\\\AppData\\\\Local\\\\Microsoft\\\\WindowsApps;C:\\\\Users\\\\nadav\\\\AppData\\\\Local\\\\Programs\\\\Microsoft VS Code\\\\bin',\n",
       "        'PATHEXT': '.COM;.EXE;.BAT;.CMD;.VBS;.VBE;.JS;.JSE;.WSF;.WSH;.MSC',\n",
       "        'PROCESSOR_ARCHITECTURE': 'AMD64',\n",
       "        'PROCESSOR_IDENTIFIER': 'Intel64 Family 6 Model 165 Stepping 3, GenuineIntel',\n",
       "        'PROCESSOR_LEVEL': '6',\n",
       "        'PROCESSOR_REVISION': 'a503',\n",
       "        'PROGRAMDATA': 'C:\\\\ProgramData',\n",
       "        'PROGRAMFILES': 'C:\\\\Program Files',\n",
       "        'PROGRAMFILES(X86)': 'C:\\\\Program Files (x86)',\n",
       "        'PROGRAMW6432': 'C:\\\\Program Files',\n",
       "        'PROMPT': '(base) $P$G',\n",
       "        'PSMODULEPATH': 'C:\\\\Program Files\\\\WindowsPowerShell\\\\Modules;C:\\\\WINDOWS\\\\system32\\\\WindowsPowerShell\\\\v1.0\\\\Modules',\n",
       "        'PUBLIC': 'C:\\\\Users\\\\Public',\n",
       "        'PYDEVD_IPYTHON_COMPATIBLE_DEBUGGING': '1',\n",
       "        'PYTHON': 'C:\\\\Users\\\\nadav\\\\AppData\\\\Local\\\\Programs\\\\Python\\\\Python39',\n",
       "        'PYTHONIOENCODING': 'utf-8',\n",
       "        'PYTHONUNBUFFERED': '1',\n",
       "        'RLSSVCPORT': '22112',\n",
       "        'SESSIONNAME': 'Console',\n",
       "        'SYSTEMDRIVE': 'C:',\n",
       "        'SYSTEMROOT': 'C:\\\\WINDOWS',\n",
       "        'TEMP': 'C:\\\\Users\\\\nadav\\\\AppData\\\\Local\\\\Temp',\n",
       "        'TMP': 'C:\\\\Users\\\\nadav\\\\AppData\\\\Local\\\\Temp',\n",
       "        'USERDOMAIN': 'DESKTOP-1PO5I3T',\n",
       "        'USERDOMAIN_ROAMINGPROFILE': 'DESKTOP-1PO5I3T',\n",
       "        'USERNAME': 'nadav',\n",
       "        'USERPROFILE': 'C:\\\\Users\\\\nadav',\n",
       "        'VSCODE_AMD_ENTRYPOINT': 'vs/workbench/api/node/extensionHostProcess',\n",
       "        'VSCODE_CODE_CACHE_PATH': 'C:\\\\Users\\\\nadav\\\\AppData\\\\Roaming\\\\Code\\\\CachedData\\\\97dec172d3256f8ca4bfb2143f3f76b503ca0534',\n",
       "        'VSCODE_CWD': 'C:\\\\Users\\\\nadav\\\\AppData\\\\Local\\\\Programs\\\\Microsoft VS Code',\n",
       "        'VSCODE_HANDLES_UNCAUGHT_ERRORS': 'true',\n",
       "        'VSCODE_IPC_HOOK': '\\\\\\\\.\\\\pipe\\\\36b64a44dc2d52d3b0b2abf20fc9f150-1.74.3-main-sock',\n",
       "        'VSCODE_NLS_CONFIG': '{\"locale\":\"en-us\",\"availableLanguages\":{},\"_languagePackSupport\":true}',\n",
       "        'VSCODE_PID': '22796',\n",
       "        'WINDIR': 'C:\\\\WINDOWS',\n",
       "        'PYDEVD_USE_FRAME_EVAL': 'NO',\n",
       "        'TERM': 'xterm-color',\n",
       "        'CLICOLOR': '1',\n",
       "        'PAGER': 'cat',\n",
       "        'GIT_PAGER': 'cat',\n",
       "        'MPLBACKEND': 'module://matplotlib_inline.backend_inline'}"
      ]
     },
     "execution_count": 6,
     "metadata": {},
     "output_type": "execute_result"
    }
   ],
   "source": [
    "os.environ"
   ]
  },
  {
   "attachments": {},
   "cell_type": "markdown",
   "metadata": {},
   "source": [
    "You can walk through files in a recursive way to find all downstream folders, just use `os.walk()`<br>\n",
    "This will yield a generator that everytime you iterate on will get a tuple. <br>\n",
    "the tuple is consist of 3 elements:\n",
    "1. the path of the folders\n",
    "2. the subfolders in the folder\n",
    "3. the files in the folder"
   ]
  },
  {
   "cell_type": "code",
   "execution_count": 7,
   "metadata": {},
   "outputs": [
    {
     "data": {
      "text/plain": [
       "[['exercises.ipynb', 'imports_and_packages.ipynb', 'the_json_format.ipynb'],\n",
       " ['mcdonalds.json', 'mc_filtered.json', 'some_text_file.txt'],\n",
       " ['module1.py', 'utils.py', '__init__.py'],\n",
       " ['module1.cpython-39.pyc', '__init__.cpython-39.pyc'],\n",
       " ['constants.py', '__init__.py'],\n",
       " ['module1.py', 'module2.py', '__init__.py'],\n",
       " ['module1.cpython-39.pyc',\n",
       "  'module2.cpython-39.pyc',\n",
       "  '__init__.cpython-39.pyc'],\n",
       " ['constants.cpython-39.pyc', '__init__.cpython-39.pyc'],\n",
       " ['list_utils.py', '__init__.py'],\n",
       " ['list_utils.cpython-39.pyc']]"
      ]
     },
     "execution_count": 7,
     "metadata": {},
     "output_type": "execute_result"
    }
   ],
   "source": [
    "all_files = list(os.walk(\".\"))\n",
    "[element[0] for element in all_files] #All paths\n",
    "[element[1] for element in all_files] #All subfolders\n",
    "[element[2] for element in all_files] #All files"
   ]
  },
  {
   "attachments": {},
   "cell_type": "markdown",
   "metadata": {},
   "source": [
    "import package3"
   ]
  },
  {
   "cell_type": "code",
   "execution_count": 8,
   "metadata": {},
   "outputs": [
    {
     "name": "stdout",
     "output_type": "stream",
     "text": [
      "====This print is located in package3 -> __init__====\n",
      "if you can read it, it means you imported the package or the module\n",
      "Usually, the __init__ file is empty, but it is crucial to have it so python understand the folder is actually a package\n"
     ]
    }
   ],
   "source": [
    "import package3"
   ]
  },
  {
   "attachments": {},
   "cell_type": "markdown",
   "metadata": {},
   "source": [
    "### sys\n",
    "```python\n",
    "import sys\n",
    "```"
   ]
  },
  {
   "attachments": {},
   "cell_type": "markdown",
   "metadata": {},
   "source": [
    "***Disclaimer*** - sys is something used more in .py files than notebooks. Yet, we will learn the important parts."
   ]
  },
  {
   "attachments": {},
   "cell_type": "markdown",
   "metadata": {},
   "source": [
    "The sys module in Python provides various functions and variables that are used to manipulate different parts of the Python runtime environment. It allows operating on the interpreter as it provides access to the variables and functions that interact strongly with the interpreter."
   ]
  },
  {
   "cell_type": "code",
   "execution_count": 9,
   "metadata": {},
   "outputs": [
    {
     "name": "stdout",
     "output_type": "stream",
     "text": [
      "3.9.13 (main, Aug 25 2022, 23:51:50) [MSC v.1916 64 bit (AMD64)]\n"
     ]
    }
   ],
   "source": [
    "print(sys.version)"
   ]
  },
  {
   "attachments": {},
   "cell_type": "markdown",
   "metadata": {},
   "source": [
    "sys.path is a built-in variable within the sys module that returns the list of directories that the interpreter will search for the required module. \n",
    "\n",
    "When a module is imported within a Python file, the interpreter first searches for the specified module among its built-in modules. If not found it looks through the list of directories defined by sys.path.\n",
    "\n",
    "***Note***: sys.path is an ordinary list and can be manipulated."
   ]
  },
  {
   "cell_type": "code",
   "execution_count": 10,
   "metadata": {},
   "outputs": [
    {
     "data": {
      "text/plain": [
       "['c:\\\\python\\\\imports and pyfiles-20230119T160737Z-001\\\\imports and pyfiles',\n",
       " 'c:\\\\Users\\\\nadav\\\\anaconda3\\\\python39.zip',\n",
       " 'c:\\\\Users\\\\nadav\\\\anaconda3\\\\DLLs',\n",
       " 'c:\\\\Users\\\\nadav\\\\anaconda3\\\\lib',\n",
       " 'c:\\\\Users\\\\nadav\\\\anaconda3',\n",
       " '',\n",
       " 'c:\\\\Users\\\\nadav\\\\anaconda3\\\\lib\\\\site-packages',\n",
       " 'c:\\\\Users\\\\nadav\\\\anaconda3\\\\lib\\\\site-packages\\\\win32',\n",
       " 'c:\\\\Users\\\\nadav\\\\anaconda3\\\\lib\\\\site-packages\\\\win32\\\\lib',\n",
       " 'c:\\\\Users\\\\nadav\\\\anaconda3\\\\lib\\\\site-packages\\\\Pythonwin',\n",
       " 'c:\\\\Users\\\\nadav\\\\anaconda3\\\\lib\\\\site-packages\\\\IPython\\\\extensions',\n",
       " 'C:\\\\Users\\\\nadav\\\\.ipython']"
      ]
     },
     "execution_count": 10,
     "metadata": {},
     "output_type": "execute_result"
    }
   ],
   "source": [
    "sys.path"
   ]
  },
  {
   "cell_type": "code",
   "execution_count": 11,
   "metadata": {},
   "outputs": [
    {
     "data": {
      "text/plain": [
       "'c:\\\\Users\\\\nadav\\\\anaconda3\\\\python.exe'"
      ]
     },
     "execution_count": 11,
     "metadata": {},
     "output_type": "execute_result"
    }
   ],
   "source": [
    "sys.executable"
   ]
  },
  {
   "attachments": {},
   "cell_type": "markdown",
   "metadata": {},
   "source": [
    "We can see `''` in the path, which means we can import module1 and other stuff... otherwise, we wouldn't be able to do so."
   ]
  },
  {
   "attachments": {},
   "cell_type": "markdown",
   "metadata": {},
   "source": [
    "### Path\n",
    "```python\n",
    "from pathlib import Path\n",
    "```"
   ]
  },
  {
   "cell_type": "code",
   "execution_count": 12,
   "metadata": {},
   "outputs": [
    {
     "name": "stdout",
     "output_type": "stream",
     "text": [
      "['This is a file!']\n"
     ]
    }
   ],
   "source": [
    "with open(\"data/some_text_file.txt\") as f: #Remember? this is a relative path\n",
    "    print(f.readlines())"
   ]
  },
  {
   "cell_type": "code",
   "execution_count": 13,
   "metadata": {},
   "outputs": [
    {
     "name": "stdout",
     "output_type": "stream",
     "text": [
      "The type of full_path is: <class 'pathlib.WindowsPath'>\n",
      "['This is a file!']\n"
     ]
    }
   ],
   "source": [
    "data_path = Path(\"data\") \n",
    "filename = \"some_text_file.txt\"\n",
    "\n",
    "full_path = data_path/filename #We can use \"/\" operator to concat different parts of the path!\n",
    "\n",
    "print(f\"The type of full_path is: {type(full_path)}\")\n",
    "\n",
    "#We can also use path object to open stuff! In general, it is recommended to use Path than strings when open things.\n",
    "with open(full_path) as f: \n",
    "    print(f.readlines())"
   ]
  },
  {
   "cell_type": "code",
   "execution_count": 14,
   "metadata": {},
   "outputs": [
    {
     "data": {
      "text/plain": [
       "WindowsPath('c:/python/imports and pyfiles-20230119T160737Z-001/imports and pyfiles/data/some_text_file.txt')"
      ]
     },
     "execution_count": 14,
     "metadata": {},
     "output_type": "execute_result"
    }
   ],
   "source": [
    "full_path.absolute() #We can find the absolute path if needed."
   ]
  },
  {
   "cell_type": "code",
   "execution_count": 15,
   "metadata": {},
   "outputs": [
    {
     "name": "stdout",
     "output_type": "stream",
     "text": [
      "False\n",
      "True\n",
      "False\n"
     ]
    }
   ],
   "source": [
    "#We can also create a path of non-existent element!\n",
    "imaginary_path = Path(\"data\",\"unreal_folder\")\n",
    "\n",
    "#Ask whether it is exists or not. (Return boolean value)\n",
    "print(imaginary_path.exists()) \n",
    "\n",
    "#Making dir out of this path:\n",
    "imaginary_path.mkdir()\n",
    "print(imaginary_path.exists())\n",
    "\n",
    "#Removing this dir\n",
    "imaginary_path.rmdir() \n",
    "print(imaginary_path.exists())"
   ]
  },
  {
   "attachments": {},
   "cell_type": "markdown",
   "metadata": {},
   "source": [
    "### Conclusion:\n",
    "We saw 3 different tools what help us interacting with the operating machine itself\n",
    "\n",
    "`os` helped us with the operation system<br>\n",
    "`sys` helped us with the running enviroment and the interpreter<br>\n",
    "`Path` from pathlib is makes our life easier in everything related to setting paths and working with files."
   ]
  },
  {
   "attachments": {},
   "cell_type": "markdown",
   "metadata": {},
   "source": [
    "## Project Structuring"
   ]
  },
  {
   "cell_type": "code",
   "execution_count": 16,
   "metadata": {},
   "outputs": [
    {
     "name": "stdout",
     "output_type": "stream",
     "text": [
      "The autoreload extension is already loaded. To reload it, use:\n",
      "  %reload_ext autoreload\n"
     ]
    }
   ],
   "source": [
    "%load_ext autoreload\n",
    "%autoreload 2"
   ]
  },
  {
   "cell_type": "code",
   "execution_count": 17,
   "metadata": {},
   "outputs": [],
   "source": [
    "import os\n",
    "import sys "
   ]
  },
  {
   "cell_type": "code",
   "execution_count": 18,
   "metadata": {},
   "outputs": [
    {
     "name": "stdout",
     "output_type": "stream",
     "text": [
      "['imports and pyfiles-20230119T160737Z-001.zip']\n"
     ]
    }
   ],
   "source": [
    "dir_path = r'c:\\\\python\\\\'\n",
    "res = []\n",
    "\n",
    "for path in os.listdir(dir_path):\n",
    "    if os.path.isfile(os.path.join(dir_path, path)):\n",
    "        res.append(path)\n",
    "print(res)"
   ]
  },
  {
   "cell_type": "code",
   "execution_count": 19,
   "metadata": {},
   "outputs": [
    {
     "data": {
      "text/plain": [
       "['mcdonalds.json', 'mc_filtered.json']"
      ]
     },
     "execution_count": 19,
     "metadata": {},
     "output_type": "execute_result"
    }
   ],
   "source": [
    "def countFileName(startWith, myPath):\n",
    "    files = os.listdir(myPath)\n",
    "    out = [element for element in files if element[0] == startWith]\n",
    "    return out\n",
    "\n",
    "\n",
    "dir_path = r'data'\n",
    "countFileName('m',dir_path)\n"
   ]
  },
  {
   "cell_type": "code",
   "execution_count": 20,
   "metadata": {},
   "outputs": [
    {
     "ename": "TypeError",
     "evalue": "nt.getcwd() takes no arguments (2 given)",
     "output_type": "error",
     "traceback": [
      "\u001b[1;31m---------------------------------------------------------------------------\u001b[0m",
      "\u001b[1;31mTypeError\u001b[0m                                 Traceback (most recent call last)",
      "\u001b[1;32m~\\AppData\\Local\\Temp\\ipykernel_25780\\1195942367.py\u001b[0m in \u001b[0;36m<module>\u001b[1;34m\u001b[0m\n\u001b[1;32m----> 1\u001b[1;33m \u001b[0mos\u001b[0m\u001b[1;33m.\u001b[0m\u001b[0mgetcwd\u001b[0m\u001b[1;33m(\u001b[0m\u001b[1;34m'a'\u001b[0m\u001b[1;33m,\u001b[0m\u001b[1;34m'c:\\\\python\\\\imports and pyfiles-20230119T160737Z-001'\u001b[0m\u001b[1;33m)\u001b[0m\u001b[1;33m\u001b[0m\u001b[1;33m\u001b[0m\u001b[0m\n\u001b[0m",
      "\u001b[1;31mTypeError\u001b[0m: nt.getcwd() takes no arguments (2 given)"
     ]
    }
   ],
   "source": [
    "os.getcwd('a','c:\\\\python\\\\imports and pyfiles-20230119T160737Z-001')"
   ]
  },
  {
   "attachments": {},
   "cell_type": "markdown",
   "metadata": {},
   "source": [
    "### How imports work?"
   ]
  },
  {
   "attachments": {},
   "cell_type": "markdown",
   "metadata": {},
   "source": [
    "In this section, we will discuss about structuring the code in a more efficient way. <br>\n",
    "Working with a single notebook (or code) becomes very nasty very fast, so the purpose of these project folder is to show you how to structure everything nicely."
   ]
  },
  {
   "attachments": {},
   "cell_type": "markdown",
   "metadata": {},
   "source": [
    "`package1` is something WE created. The reason we can import it is because the package is a subfolder of one of the elements in the path"
   ]
  },
  {
   "cell_type": "code",
   "execution_count": null,
   "metadata": {},
   "outputs": [],
   "source": [
    "import package1"
   ]
  },
  {
   "cell_type": "code",
   "execution_count": null,
   "metadata": {},
   "outputs": [
    {
     "data": {
      "text/plain": [
       "'1.0.1'"
      ]
     },
     "execution_count": 16,
     "metadata": {},
     "output_type": "execute_result"
    }
   ],
   "source": [
    "package1.__version__"
   ]
  },
  {
   "cell_type": "code",
   "execution_count": null,
   "metadata": {},
   "outputs": [],
   "source": [
    "%load_ext\n"
   ]
  },
  {
   "attachments": {},
   "cell_type": "markdown",
   "metadata": {},
   "source": [
    "Even though importing packages directly is possible, we usually don't do it. <br>\n",
    "By importing the package itself, we get the entire variables from the init, we can usually see the `__version__` attribute inside."
   ]
  },
  {
   "attachments": {},
   "cell_type": "markdown",
   "metadata": {},
   "source": [
    "What we usually do, is importing a module (or a submodule) from the package.<br>\n",
    "We can also import specific variable/functions/classes from our module."
   ]
  },
  {
   "cell_type": "code",
   "execution_count": null,
   "metadata": {},
   "outputs": [
    {
     "name": "stdout",
     "output_type": "stream",
     "text": [
      "You just imported package1.module1!\n"
     ]
    }
   ],
   "source": [
    "from package1 import module1 #now we can access module1 and it subelements"
   ]
  },
  {
   "cell_type": "code",
   "execution_count": null,
   "metadata": {},
   "outputs": [
    {
     "name": "stdout",
     "output_type": "stream",
     "text": [
      "Hello from package1!\n"
     ]
    }
   ],
   "source": [
    "module1.function1_from_module1()"
   ]
  },
  {
   "cell_type": "code",
   "execution_count": 25,
   "metadata": {},
   "outputs": [
    {
     "name": "stdout",
     "output_type": "stream",
     "text": [
      "Hello from package1!\n"
     ]
    }
   ],
   "source": [
    "from package1.module1 import function1_from_module1 #Now we can access the function without accessing module1 first.\n",
    "function1_from_module1()"
   ]
  },
  {
   "cell_type": "code",
   "execution_count": 21,
   "metadata": {},
   "outputs": [
    {
     "name": "stdout",
     "output_type": "stream",
     "text": [
      "====This print is located in package1 -> __init__====\n",
      "if you can read it, it means you imported the package or the module\n",
      "Usually, the __init__ file is empty, but it is crucial to have it so python understand the folder is actually a package\n",
      "You just imported package1.module1!\n"
     ]
    }
   ],
   "source": [
    "from package1.module1 import function1_from_module1 as greeting"
   ]
  },
  {
   "cell_type": "code",
   "execution_count": 22,
   "metadata": {},
   "outputs": [],
   "source": [
    "import package3"
   ]
  },
  {
   "cell_type": "code",
   "execution_count": 23,
   "metadata": {},
   "outputs": [],
   "source": [
    "from package3.list_utils import get_last as get_last"
   ]
  },
  {
   "cell_type": "code",
   "execution_count": 24,
   "metadata": {},
   "outputs": [
    {
     "name": "stdout",
     "output_type": "stream",
     "text": [
      "3\n"
     ]
    }
   ],
   "source": [
    "l = get_last([1,2,3])\n",
    "print(l)"
   ]
  },
  {
   "cell_type": "code",
   "execution_count": 26,
   "metadata": {},
   "outputs": [
    {
     "name": "stdout",
     "output_type": "stream",
     "text": [
      "Hello from package1!\n"
     ]
    }
   ],
   "source": [
    "greeting()"
   ]
  },
  {
   "attachments": {},
   "cell_type": "markdown",
   "metadata": {},
   "source": [
    "### The attribute `__name__`"
   ]
  },
  {
   "attachments": {},
   "cell_type": "markdown",
   "metadata": {},
   "source": [
    "If we looked into `package1.module1` we can see the following:\n",
    "```python\n",
    " if __name__==\"__main__\":\n",
    "    ...\n",
    "```\n",
    "\n",
    "The `__name__` variable (two underscores before and after) is a special Python variable. It gets its value depending on how we execute the containing script.<br>\n",
    "Sometimes you write a script with functions that might be useful in other scripts as well. In Python, you can import that script as a module in another script.<br>\n",
    "Thanks to this special variable, you can decide whether you want to run the script. Or that you want to import the functions defined in the script.\n"
   ]
  },
  {
   "attachments": {},
   "cell_type": "markdown",
   "metadata": {},
   "source": [
    "If we run the python file directly, the `__name__` variable will becomes `'__main__'` and other stuff might occur."
   ]
  },
  {
   "attachments": {},
   "cell_type": "markdown",
   "metadata": {},
   "source": [
    "### Relative imports"
   ]
  },
  {
   "attachments": {},
   "cell_type": "markdown",
   "metadata": {},
   "source": [
    "When creating more complex projects, you might end up with some intra-project dependencies. <br>\n",
    "It basically means that some one module might utilize other modules from the same package. <br>\n",
    "\n",
    "This is where relative imports comes in."
   ]
  },
  {
   "cell_type": "code",
   "execution_count": null,
   "metadata": {},
   "outputs": [],
   "source": [
    "from package1 import module1\n",
    "from package3 import list_utils"
   ]
  },
  {
   "cell_type": "code",
   "execution_count": null,
   "metadata": {},
   "outputs": [
    {
     "ename": "AttributeError",
     "evalue": "module 'package3.list_utils' has no attribute 'SOME_CONSTANT'",
     "output_type": "error",
     "traceback": [
      "\u001b[1;31m---------------------------------------------------------------------------\u001b[0m",
      "\u001b[1;31mAttributeError\u001b[0m                            Traceback (most recent call last)",
      "\u001b[1;32m~\\AppData\\Local\\Temp\\ipykernel_10564\\2252863627.py\u001b[0m in \u001b[0;36m<module>\u001b[1;34m\u001b[0m\n\u001b[0;32m      1\u001b[0m \u001b[0mlist_utils\u001b[0m\u001b[1;33m.\u001b[0m\u001b[0mget_last\u001b[0m\u001b[1;33m(\u001b[0m\u001b[1;33m[\u001b[0m\u001b[1;36m2\u001b[0m\u001b[1;33m,\u001b[0m\u001b[1;36m3\u001b[0m\u001b[1;33m,\u001b[0m\u001b[1;36m4\u001b[0m\u001b[1;33m]\u001b[0m\u001b[1;33m)\u001b[0m\u001b[1;33m\u001b[0m\u001b[1;33m\u001b[0m\u001b[0m\n\u001b[1;32m----> 2\u001b[1;33m \u001b[0mlist_utils\u001b[0m\u001b[1;33m.\u001b[0m\u001b[0mSOME_CONSTANT\u001b[0m\u001b[1;33m\u001b[0m\u001b[1;33m\u001b[0m\u001b[0m\n\u001b[0m",
      "\u001b[1;31mAttributeError\u001b[0m: module 'package3.list_utils' has no attribute 'SOME_CONSTANT'"
     ]
    }
   ],
   "source": [
    "list_utils.get_last([2,3,4])\n",
    "list_utils.SOME_CONSTANT\n"
   ]
  },
  {
   "attachments": {},
   "cell_type": "markdown",
   "metadata": {},
   "source": [
    "### Best practices\n",
    "There is no right way to divide the functions and objects to the different modules, but here are some guidelines:\n",
    "1. Choosing meaningful names applies here too. `package1` is not a good name for a package.\n",
    "2. Saving functions with the same \"business area\" to the same module is a good practice. <br>\n",
    "   For example: `preprocessing_utils.py`, `evaluation_tools.py`, `ml_models.py` etc...\n",
    "3. Don't overengineer it. When mastering this tool people tends to focus on that instead of the actual project.\n",
    "4. In general, don't write functions and objects that will you will use only once, you can do it in the interactive code itself.\n",
    "5. You can keep json files with the configurations of the running in sperate files and load them in the beginning of the code. "
   ]
  }
 ],
 "metadata": {
  "kernelspec": {
   "display_name": "base",
   "language": "python",
   "name": "python3"
  },
  "language_info": {
   "codemirror_mode": {
    "name": "ipython",
    "version": 3
   },
   "file_extension": ".py",
   "mimetype": "text/x-python",
   "name": "python",
   "nbconvert_exporter": "python",
   "pygments_lexer": "ipython3",
   "version": "3.9.13 (main, Aug 25 2022, 23:51:50) [MSC v.1916 64 bit (AMD64)]"
  },
  "orig_nbformat": 4,
  "vscode": {
   "interpreter": {
    "hash": "12808c5478f889e5654b1d3b66a2e98e3774ef2aa8bb1c8d903d15ad6d5a7716"
   }
  }
 },
 "nbformat": 4,
 "nbformat_minor": 2
}
